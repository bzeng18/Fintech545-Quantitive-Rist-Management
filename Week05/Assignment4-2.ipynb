{
 "cells": [
  {
   "cell_type": "markdown",
   "id": "64d90f02",
   "metadata": {},
   "source": [
    "# Fintech545 Assignment4\n",
    "## October 14, 2022"
   ]
  },
  {
   "cell_type": "code",
   "execution_count": 51,
   "id": "ef65fe35",
   "metadata": {},
   "outputs": [],
   "source": [
    "import pandas as pd\n",
    "import numpy as np\n",
    "import statsmodels.api as sm\n",
    "import matplotlib.pyplot as plt\n",
    "import seaborn as sns\n",
    "from scipy.stats import norm\n",
    "from scipy import stats\n",
    "from scipy.optimize import minimize \n",
    "from ft545 import myfunctions"
   ]
  },
  {
   "cell_type": "markdown",
   "id": "ce65483b",
   "metadata": {},
   "source": [
    "### 1. Problem 1\n",
    "Use the data in problem1.csv. Fit a normal Distribution and a Generalized T distribution to this data. Calculate the VaR and the ES for both fiited distributions.\n",
    "\n",
    "Overlay the graphs the distribution PDFs, VaR, and ES values. What do you notice? Explain the differences."
   ]
  },
  {
   "cell_type": "code",
   "execution_count": 2,
   "id": "c0a59bd3",
   "metadata": {},
   "outputs": [
    {
     "data": {
      "text/html": [
       "<div>\n",
       "<style scoped>\n",
       "    .dataframe tbody tr th:only-of-type {\n",
       "        vertical-align: middle;\n",
       "    }\n",
       "\n",
       "    .dataframe tbody tr th {\n",
       "        vertical-align: top;\n",
       "    }\n",
       "\n",
       "    .dataframe thead th {\n",
       "        text-align: right;\n",
       "    }\n",
       "</style>\n",
       "<table border=\"1\" class=\"dataframe\">\n",
       "  <thead>\n",
       "    <tr style=\"text-align: right;\">\n",
       "      <th></th>\n",
       "      <th>x</th>\n",
       "    </tr>\n",
       "  </thead>\n",
       "  <tbody>\n",
       "    <tr>\n",
       "      <th>0</th>\n",
       "      <td>-0.002665</td>\n",
       "    </tr>\n",
       "    <tr>\n",
       "      <th>1</th>\n",
       "      <td>-0.045128</td>\n",
       "    </tr>\n",
       "    <tr>\n",
       "      <th>2</th>\n",
       "      <td>0.053635</td>\n",
       "    </tr>\n",
       "    <tr>\n",
       "      <th>3</th>\n",
       "      <td>0.010450</td>\n",
       "    </tr>\n",
       "    <tr>\n",
       "      <th>4</th>\n",
       "      <td>-0.016284</td>\n",
       "    </tr>\n",
       "    <tr>\n",
       "      <th>...</th>\n",
       "      <td>...</td>\n",
       "    </tr>\n",
       "    <tr>\n",
       "      <th>495</th>\n",
       "      <td>0.009279</td>\n",
       "    </tr>\n",
       "    <tr>\n",
       "      <th>496</th>\n",
       "      <td>-0.001121</td>\n",
       "    </tr>\n",
       "    <tr>\n",
       "      <th>497</th>\n",
       "      <td>0.075188</td>\n",
       "    </tr>\n",
       "    <tr>\n",
       "      <th>498</th>\n",
       "      <td>0.038520</td>\n",
       "    </tr>\n",
       "    <tr>\n",
       "      <th>499</th>\n",
       "      <td>-0.033949</td>\n",
       "    </tr>\n",
       "  </tbody>\n",
       "</table>\n",
       "<p>500 rows × 1 columns</p>\n",
       "</div>"
      ],
      "text/plain": [
       "            x\n",
       "0   -0.002665\n",
       "1   -0.045128\n",
       "2    0.053635\n",
       "3    0.010450\n",
       "4   -0.016284\n",
       "..        ...\n",
       "495  0.009279\n",
       "496 -0.001121\n",
       "497  0.075188\n",
       "498  0.038520\n",
       "499 -0.033949\n",
       "\n",
       "[500 rows x 1 columns]"
      ]
     },
     "execution_count": 2,
     "metadata": {},
     "output_type": "execute_result"
    }
   ],
   "source": [
    "data = pd.read_csv(\"problem1.csv\")\n",
    "data"
   ]
  },
  {
   "cell_type": "markdown",
   "id": "5dcde0d0",
   "metadata": {},
   "source": [
    "#### fit T distribution"
   ]
  },
  {
   "cell_type": "code",
   "execution_count": 175,
   "id": "2eda482a",
   "metadata": {},
   "outputs": [],
   "source": [
    "data1 = list(data['x'])\n",
    "def MLE_T(p):\n",
    "   return -1*np.sum(stats.t.logpdf(data1, df=p[0], loc = p[1],scale=p[2])) \n",
    "constraints=({\"type\":\"ineq\", \"fun\":lambda x: x[0]-1}, \n",
    "                 {\"type\":\"ineq\", \"fun\":lambda x: x[2]})\n",
    "df, loc, scale = minimize(MLE_T, x0 = (10,np.mean(data1),np.std(data1)),constraints=constraints).x\n",
    "sim_T = stats.t(df=df, scale=scale).rvs(10000)"
   ]
  },
  {
   "cell_type": "markdown",
   "id": "09d4dd3c",
   "metadata": {},
   "source": [
    "#### fit normal distribution "
   ]
  },
  {
   "cell_type": "code",
   "execution_count": 45,
   "id": "ea318c95",
   "metadata": {},
   "outputs": [],
   "source": [
    "sim_N = np.random.normal(np.mean(data1),np.std(data1),size=10000)"
   ]
  },
  {
   "cell_type": "code",
   "execution_count": 176,
   "id": "5829c00b",
   "metadata": {},
   "outputs": [
    {
     "name": "stdout",
     "output_type": "stream",
     "text": [
      "VaR of Normal distribution is  0.08174392895998123\n",
      "VaR of T distribution is  0.07446901701156956\n",
      "ES of Normal distribution is  0.10296978366696842\n",
      "ES of T distribution is  0.11009921509529187\n"
     ]
    }
   ],
   "source": [
    "print(\"VaR of Normal distribution is \",myfunctions.VaR(sim_N, 0))\n",
    "print(\"VaR of T distribution is \",myfunctions.VaR(sim_T, 0))\n",
    "print(\"ES of Normal distribution is \",myfunctions.es(sim_N))\n",
    "print(\"ES of T distribution is \",myfunctions.es(sim_T))"
   ]
  },
  {
   "cell_type": "code",
   "execution_count": 62,
   "id": "35992716",
   "metadata": {},
   "outputs": [
    {
     "data": {
      "text/plain": [
       "<matplotlib.legend.Legend at 0x13fe669e0>"
      ]
     },
     "execution_count": 62,
     "metadata": {},
     "output_type": "execute_result"
    },
    {
     "data": {
      "image/png": "[encoded data removed]",
      "text/plain": [
       "<Figure size 1200x800 with 1 Axes>"
      ]
     },
     "metadata": {},
     "output_type": "display_data"
    }
   ],
   "source": [
    "fig, ax = plt.subplots(figsize=(12, 8))\n",
    "sns.histplot(data1, stat='density', alpha = 0.5)\n",
    "sns.kdeplot(sim_N, label = \"N\", color = 'r')\n",
    "sns.kdeplot(sim_T, label = \"T\", color = \"b\")\n",
    "ax.axvline(-myfunctions.es(sim_N), color = \"r\", linestyle = \"--\")\n",
    "ax.axvline(-myfunctions.es(sim_T), color = \"b\", linestyle = \"--\")\n",
    "ax.axvline(-myfunctions.VaR(sim_N,0), color = \"r\")\n",
    "ax.axvline(-myfunctions.VaR(sim_T,0), color = \"b\")\n",
    "ax.legend()"
   ]
  },
  {
   "cell_type": "markdown",
   "id": "5cdfd970",
   "metadata": {},
   "source": [
    "### The solid lines are the VaR and the dotted lines are the ES. T distribution is a better fit of the graph because it has a greater kurtosis(fatter tail). The VaR of normal distribution is greater than that of T distribution and the ES of normal distribution is less than that of T distribution(loss is a positive number)"
   ]
  },
  {
   "cell_type": "markdown",
   "id": "72ea3d98",
   "metadata": {},
   "source": [
    "### 2. Problem 2\n",
    "In your main repository, create a Library for risk management. Create modules, classes, packages, etc as you see fit. Include all the functionality we have discussed so far in class. Make sure it includes\n",
    "1. Covariance estimation techniques\n",
    "2. Non PSD fixes for correlation matrices\n",
    "3. Simulation Methods\n",
    "4. VaR calculation methods(all discusses)\n",
    "5. ES calculation\n",
    "\n",
    "Create a test suite and show that each function performs as expected"
   ]
  },
  {
   "cell_type": "markdown",
   "id": "0344964d",
   "metadata": {},
   "source": [
    "### I created a library in folder \"lib\". All the functions are in myfunctions.py and the test cases are under \"test\" folder. "
   ]
  },
  {
   "cell_type": "markdown",
   "id": "97fbd406",
   "metadata": {},
   "source": [
    "### 3. Problem 3\n",
    "Use your repository from #2.\n",
    "Using Portfolio.csv and Daily Prices.csv. Assume the expected return on all stocks is 0.\n",
    "This file contains the stock holdings of 3 portfolios. You own each of these portfolios.\n",
    "Fit a Generalized T model to each stock and calculate the VaR and ES of each portfolio as well as your total VaR and ES. Compare the results form this to your VaR from Problem3 from Week4."
   ]
  },
  {
   "cell_type": "code",
   "execution_count": 167,
   "id": "2f5c16ce",
   "metadata": {},
   "outputs": [],
   "source": [
    "p1 = pd.read_csv(\"portfolio.csv\")\n",
    "dp = pd.read_csv(\"DailyPrices.csv\")"
   ]
  },
  {
   "cell_type": "code",
   "execution_count": 174,
   "id": "8886e789",
   "metadata": {},
   "outputs": [
    {
     "name": "stderr",
     "output_type": "stream",
     "text": [
      "/Library/Frameworks/Python.framework/Versions/3.10/lib/python3.10/site-packages/scipy/stats/_distn_infrastructure.py:2126: RuntimeWarning: divide by zero encountered in divide\n",
      "  x = np.asarray((x - loc)/scale, dtype=dtyp)\n"
     ]
    },
    {
     "name": "stdout",
     "output_type": "stream",
     "text": [
      "the VaR of portfolio A is 6088.051472116343\n",
      "the ES of portfolio A is 7827.26676477154\n",
      "the VaR of portfolio B is 4588.4359311812295\n",
      "the ES of portfolio B is 5905.847621118043\n",
      "the VaR of portfolio C is 3386.636384165054\n",
      "the ES of portfolio C is 4916.092085448166\n",
      "the VaR of portfolio total is 13415.849435841787\n",
      "the ES of portfolio total is 18168.745384693135\n"
     ]
    }
   ],
   "source": [
    "for k in [\"A\",\"B\", \"C\", \"total\"]:\n",
    "    if k!=\"total\":\n",
    "        p = p1[p1[\"Portfolio\"]==k]\n",
    "    else:\n",
    "        p=p1\n",
    "    cdf = []\n",
    "    params = []\n",
    "    cps = []\n",
    "    holdings = []\n",
    "    total = 0\n",
    "    for i in p['Stock']:\n",
    "        holdings.append(p[p['Stock']==i]['Holding'].iloc[0])\n",
    "        cps.append(dp.loc[:,i].iloc[-1])\n",
    "        total+=dp.loc[:,i].iloc[-1]*p[p['Stock']==i]['Holding'].iloc[0]\n",
    "        returns = myfunctions.return_calculate(dp.loc[:,i])\n",
    "        def MLE_T(p):\n",
    "           return -1*np.sum(stats.t.logpdf(returns, df=p[0], loc = p[1],scale=p[2])) \n",
    "        constraints=({\"type\":\"ineq\", \"fun\":lambda x: x[0]-2}, \n",
    "                 {\"type\":\"ineq\", \"fun\":lambda x: x[2]})\n",
    "        df, loc, scale = minimize(MLE_T, x0 = (2,np.mean(returns),np.std(returns)),constraints=constraints).x\n",
    "        params.append([df,loc,scale])\n",
    "        cdf.append(stats.t.cdf(returns, df = df, loc = loc, scale = scale))\n",
    "    sim = myfunctions.multi_normal_sim(stats.spearmanr(np.array(cdf), axis=1)[0],1000)\n",
    "    rt = []\n",
    "    for i in range(len(sim)):\n",
    "        rt.append(stats.t.ppf(stats.norm.cdf(sim[i]), df = params[i][0], loc = params[i][1], scale = params[i][2]))\n",
    "    values = []\n",
    "    for i in range(len(rt[0])):\n",
    "        value = 0\n",
    "        for j in range(len(rt)):\n",
    "            value+=cps[j]*(1+rt[j][i])*holdings[j]\n",
    "        values.append(value-total)\n",
    "    print(\"the VaR of portfolio \"+k+\" is\", myfunctions.VaR(np.array(values),0))\n",
    "    print(\"the ES of portfolio \"+k+\" is\", myfunctions.es(np.array(values)))"
   ]
  },
  {
   "cell_type": "markdown",
   "id": "3c181a4b",
   "metadata": {},
   "source": [
    "### There are only little difference between the results here and the results from week4. However, simulation using Copulus should be a better fit if we have the right distribution of each stock because it does not require normality assumption."
   ]
  },
  {
   "cell_type": "code",
   "execution_count": null,
   "id": "3f351863",
   "metadata": {},
   "outputs": [],
   "source": []
  }
 ],
 "metadata": {
  "kernelspec": {
   "display_name": "Python 3 (ipykernel)",
   "language": "python",
   "name": "python3"
  },
  "language_info": {
   "codemirror_mode": {
    "name": "ipython",
    "version": 3
   },
   "file_extension": ".py",
   "mimetype": "text/x-python",
   "name": "python",
   "nbconvert_exporter": "python",
   "pygments_lexer": "ipython3",
   "version": "3.10.7"
  }
 },
 "nbformat": 4,
 "nbformat_minor": 5
}
